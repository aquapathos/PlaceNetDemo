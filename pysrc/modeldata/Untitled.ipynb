{
 "cells": [
  {
   "cell_type": "code",
   "execution_count": 31,
   "metadata": {},
   "outputs": [],
   "source": [
    "import sys,os\n",
    "from urllib.request import urlopen\n",
    "from urllib.request import urlretrieve\n",
    "from urllib.error import URLError,HTTPError \n",
    "# import commands  # python 3 では廃止\n",
    "import subprocess\n",
    "import argparse\n",
    "import random\n",
    "from PIL import Image\n",
    "import os.path\n",
    "\n",
    "def cmd(cmd):\n",
    "    return subprocess.getoutput(cmd)\n",
    "\n",
    "#  'pip install easydict'  if you don't have easydict\n",
    "from easydict import EasyDict as edict\n",
    "\n",
    "args = edict({\n",
    "        \"data_dir\": 'images',\n",
    "        \"num_of_classes\": 1000,\n",
    "        \"num_of_pics\": 10\n",
    "})\n"
   ]
  },
  {
   "cell_type": "code",
   "execution_count": null,
   "metadata": {
    "scrolled": false
   },
   "outputs": [],
   "source": []
  },
  {
   "cell_type": "code",
   "execution_count": null,
   "metadata": {
    "collapsed": true
   },
   "outputs": [],
   "source": []
  },
  {
   "cell_type": "markdown",
   "metadata": {},
   "source": []
  },
  {
   "cell_type": "code",
   "execution_count": null,
   "metadata": {},
   "outputs": [],
   "source": []
  },
  {
   "cell_type": "code",
   "execution_count": null,
   "metadata": {
    "collapsed": true
   },
   "outputs": [],
   "source": []
  }
 ],
 "metadata": {
  "kernelspec": {
   "display_name": "Python 3",
   "language": "python",
   "name": "python3"
  },
  "language_info": {
   "codemirror_mode": {
    "name": "ipython",
    "version": 3
   },
   "file_extension": ".py",
   "mimetype": "text/x-python",
   "name": "python",
   "nbconvert_exporter": "python",
   "pygments_lexer": "ipython3",
   "version": "3.6.1"
  }
 },
 "nbformat": 4,
 "nbformat_minor": 2
}
