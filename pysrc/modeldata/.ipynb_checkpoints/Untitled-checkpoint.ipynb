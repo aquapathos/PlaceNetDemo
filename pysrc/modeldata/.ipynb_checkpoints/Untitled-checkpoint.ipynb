{
 "cells": [
  {
   "cell_type": "code",
   "execution_count": 65,
   "metadata": {
    "collapsed": true
   },
   "outputs": [],
   "source": [
    "import sys,os\n",
    "from urllib.request import urlopen\n",
    "from urllib.request import urlretrieve\n",
    "from urllib.error import URLError,HTTPError \n",
    "# import commands  # python 3 では廃止\n",
    "import subprocess\n",
    "import argparse\n",
    "import random\n",
    "from PIL import Image\n",
    "import os.path\n",
    "\n",
    "def cmd(cmd):\n",
    "    return subprocess.getoutput(cmd)\n",
    "\n",
    "# Google 翻訳サービスを使う　ーーーーーーーーーーーーーーーーーーー\n",
    "import requests\n",
    "import re\n",
    " \n",
    "url = 'https://translate.google.com/?hl=ja#en/ja/'\n",
    " \n",
    "def translate(estring):\n",
    "    r = requests.get(url, params={'q': estring})\n",
    " \n",
    "    pattern = \"TRANSLATED_TEXT=\\'(.*?)\\'\"\n",
    "    jstring = re.search(pattern, r.text).group(1)\n",
    " \n",
    "    return jstring\n",
    "# Google 翻訳サービスを使う　ーーーーーーーーーーーーーーーーーーー\n",
    "\n",
    "# arguments\n",
    "# parser = argparse.ArgumentParser()\n",
    "# parser.add_argument('--data_dir',        type=str,   default='images')\n",
    "# parser.add_argument('--num_of_classes',  type=int,   default=1000)\n",
    "# parser.add_argument('--num_of_pics',   type=int,   default=10)\n",
    "# args = parser.parse_args()\n",
    "\n",
    "#  'pip install easydict'  if you don't have easydict\n",
    "from easydict import EasyDict as edict\n",
    "\n",
    "args = edict({\n",
    "        \"data_dir\": 'images',\n",
    "        \"num_of_classes\": 1000,\n",
    "        \"num_of_pics\": 10\n",
    "})\n",
    "\n"
   ]
  },
  {
   "cell_type": "code",
   "execution_count": 64,
   "metadata": {},
   "outputs": [
    {
     "name": "stdout",
     "output_type": "stream",
     "text": [
      "\n"
     ]
    },
    {
     "ename": "ValueError",
     "evalue": "not enough values to unpack (expected 2, got 1)",
     "output_type": "error",
     "traceback": [
      "\u001b[0;31m---------------------------------------------------------------------------\u001b[0m",
      "\u001b[0;31mValueError\u001b[0m                                Traceback (most recent call last)",
      "\u001b[0;32m<ipython-input-64-f652e4e1407e>\u001b[0m in \u001b[0;36m<module>\u001b[0;34m()\u001b[0m\n\u001b[1;32m      5\u001b[0m     \u001b[0mline\u001b[0m \u001b[0;34m=\u001b[0m \u001b[0mf1\u001b[0m\u001b[0;34m.\u001b[0m\u001b[0mread\u001b[0m\u001b[0;34m(\u001b[0m\u001b[0;34m)\u001b[0m\u001b[0;34m\u001b[0m\u001b[0m\n\u001b[1;32m      6\u001b[0m     \u001b[0mprint\u001b[0m\u001b[0;34m(\u001b[0m\u001b[0mline\u001b[0m\u001b[0;34m)\u001b[0m\u001b[0;34m\u001b[0m\u001b[0m\n\u001b[0;32m----> 7\u001b[0;31m     \u001b[0mstring\u001b[0m\u001b[0;34m,\u001b[0m\u001b[0mnumber\u001b[0m \u001b[0;34m=\u001b[0m \u001b[0mline\u001b[0m\u001b[0;34m.\u001b[0m\u001b[0mrsplit\u001b[0m\u001b[0;34m(\u001b[0m\u001b[0;34m' '\u001b[0m\u001b[0;34m,\u001b[0m\u001b[0;36m1\u001b[0m\u001b[0;34m)\u001b[0m\u001b[0;34m\u001b[0m\u001b[0m\n\u001b[0m\u001b[1;32m      8\u001b[0m     \u001b[0;32mif\u001b[0m \u001b[0ml\u001b[0m \u001b[0;34m<\u001b[0m \u001b[0;36m1000\u001b[0m\u001b[0;34m:\u001b[0m\u001b[0;34m\u001b[0m\u001b[0m\n\u001b[1;32m      9\u001b[0m         \u001b[0mstring\u001b[0m \u001b[0;34m=\u001b[0m \u001b[0mstring\u001b[0m\u001b[0;34m.\u001b[0m\u001b[0msplit\u001b[0m\u001b[0;34m(\u001b[0m\u001b[0;34m' '\u001b[0m\u001b[0;34m,\u001b[0m\u001b[0;36m1\u001b[0m\u001b[0;34m)\u001b[0m\u001b[0;34m[\u001b[0m\u001b[0;36m1\u001b[0m\u001b[0;34m]\u001b[0m\u001b[0;34m\u001b[0m\u001b[0m\n",
      "\u001b[0;31mValueError\u001b[0m: not enough values to unpack (expected 2, got 1)"
     ]
    }
   ],
   "source": [
    "dict={}\n",
    "f1 = open('categories_hybrid1365.txt','r')\n",
    "f2 = open('jcategories_hybrid1365.txt', 'w')\n",
    "for l in range(10):\n",
    "    line = f1.read()\n",
    "    print(line)\n",
    "    string,number = line.rsplit(' ',1)\n",
    "    if l < 1000:\n",
    "        string = string.split(' ',1)[1]\n",
    "    else :\n",
    "        string = string[3:]\n",
    "    print(number,string)"
   ]
  },
  {
   "cell_type": "code",
   "execution_count": 31,
   "metadata": {},
   "outputs": [
    {
     "data": {
      "text/plain": [
       "'インディゴ・バンギング、インディゴ・フィンチ、インディゴ・バード、パッセリナ・シアネア14'"
      ]
     },
     "execution_count": 31,
     "metadata": {},
     "output_type": "execute_result"
    }
   ],
   "source": [
    "translate('indigo bunting, indigo finch, indigo bird, Passerina cyanea 14')"
   ]
  },
  {
   "cell_type": "code",
   "execution_count": 58,
   "metadata": {
    "collapsed": true
   },
   "outputs": [],
   "source": [
    "f.close()"
   ]
  },
  {
   "cell_type": "code",
   "execution_count": null,
   "metadata": {
    "collapsed": true
   },
   "outputs": [],
   "source": []
  }
 ],
 "metadata": {
  "kernelspec": {
   "display_name": "Python [default]",
   "language": "python",
   "name": "python3"
  }
 },
 "nbformat": 4,
 "nbformat_minor": 2
}
